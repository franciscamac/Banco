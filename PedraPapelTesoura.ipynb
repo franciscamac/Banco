{
  "nbformat": 4,
  "nbformat_minor": 0,
  "metadata": {
    "colab": {
      "provenance": [],
      "authorship_tag": "ABX9TyNnCKqNZxtXMw+DMC5RMdHG",
      "include_colab_link": true
    },
    "kernelspec": {
      "name": "python3",
      "display_name": "Python 3"
    },
    "language_info": {
      "name": "python"
    }
  },
  "cells": [
    {
      "cell_type": "markdown",
      "metadata": {
        "id": "view-in-github",
        "colab_type": "text"
      },
      "source": [
        "<a href=\"https://colab.research.google.com/github/franciscamac/Banco/blob/main/PedraPapelTesoura.ipynb\" target=\"_parent\"><img src=\"https://colab.research.google.com/assets/colab-badge.svg\" alt=\"Open In Colab\"/></a>"
      ]
    },
    {
      "cell_type": "code",
      "execution_count": null,
      "metadata": {
        "id": "X92-mtIDQ6M9"
      },
      "outputs": [],
      "source": [
        "from random import randint\n",
        "while True:\n",
        "    vitorias =0\n",
        "    derrotas = 0\n",
        "    empates = 0\n",
        "    nome = str(input(\"Qual seu nome? \"))\n",
        "    rodadas = int(input(\"Quantas rodadas você pretende jogar? \"))\n",
        "    for i in range(rodadas):\n",
        "        itens = ('Pedra','Papel', 'Tesoura')\n",
        "        comp = randint(1,3)\n",
        "        menu = \"\"\"======== JOGO =========\n",
        "        Suas Opções:\n",
        "        [1] - Pedra\n",
        "        [2] - Papel\n",
        "        [3] - Tesoura\n",
        "        Faça sua jogada:\n",
        "        --->\n",
        "        \"\"\"\n",
        "        print(menu)\n",
        "        jogador = int(input(\"Qual é a sua jogada? \"))\n",
        "        print('-=' *10)\n",
        "        print(\"Computador jogou {}\".format(itens[comp]))\n",
        "        print(\"Jogador jogou {}\".format(itens[jogador]))\n",
        "        print('-=' *10)\n",
        "\n",
        "        if comp == 1: #PEDRA\n",
        "            if jogador == 1:\n",
        "                print(\"EMPATE\")\n",
        "                empates+=1\n",
        "            elif jogador == 2:\n",
        "                print(\"JOGADOR VENCE\")\n",
        "                vitorias+=1\n",
        "            elif jogador == 3:\n",
        "                print(\"COMPUTADOR VENCE\")\n",
        "                derrotas+=1\n",
        "            else:\n",
        "                print('Jogada Inválida!')\n",
        "\n",
        "        elif comp == 2: #PAPEL\n",
        "            if jogador == 1:\n",
        "                print(\"COMPUTADOR VENCE\")\n",
        "                derrotas+=1\n",
        "            elif jogador == 2:\n",
        "                print(\"EMPATE\")\n",
        "                empates+=1\n",
        "            elif jogador == 3:\n",
        "                print(\"JOGADOR VENCE\")\n",
        "                vitorias+=1\n",
        "            else:\n",
        "                print('Jogada Inválida!')\n",
        "\n",
        "        elif comp == 3: #TESOURA\n",
        "            if jogador == 1:\n",
        "                print(\"JOGADOR VENCE\")\n",
        "                vitorias+=1\n",
        "            elif jogador == 2:\n",
        "                print(\"COMPUTADOR VENCE\")\n",
        "                derrotas+=1\n",
        "            elif jogador == 3:\n",
        "                print(\"EMPATE\")\n",
        "                empates+=1\n",
        "            else:\n",
        "                print('Jogada Inválida!')\n",
        "    print(f\"O jogador {jogador} ganhou {vitorias} vezes\")\n",
        "    print(f\"Perdeu {derrotas} vezes \")\n",
        "    print(f\"Empatou {empates} vezes \")"
      ]
    }
  ]
}